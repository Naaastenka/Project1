{
  "nbformat": 4,
  "nbformat_minor": 0,
  "metadata": {
    "colab": {
      "provenance": [],
      "include_colab_link": true
    },
    "kernelspec": {
      "name": "python3",
      "display_name": "Python 3"
    },
    "language_info": {
      "name": "python"
    }
  },
  "cells": [
    {
      "cell_type": "markdown",
      "metadata": {
        "id": "view-in-github",
        "colab_type": "text"
      },
      "source": [
        "<a href=\"https://colab.research.google.com/github/Naaastenka/Project1/blob/main/%D0%97%D0%B0%D0%B4%D0%B0%D0%BD%D0%B8%D0%B5_7.ipynb\" target=\"_parent\"><img src=\"https://colab.research.google.com/assets/colab-badge.svg\" alt=\"Open In Colab\"/></a>"
      ]
    },
    {
      "cell_type": "code",
      "execution_count": null,
      "metadata": {
        "id": "0328r5U9omQe"
      },
      "outputs": [],
      "source": [
        "import sqlite3\n",
        "import pandas as pd"
      ]
    },
    {
      "cell_type": "code",
      "source": [
        "con = sqlite3.connect(':memory:')"
      ],
      "metadata": {
        "id": "a3V1BLN-p1YC"
      },
      "execution_count": null,
      "outputs": []
    },
    {
      "cell_type": "code",
      "source": [
        "table_names = [\n",
        "    'Categories',   # категории товаров\n",
        "    'Customers',    # заказчики\n",
        "    'Employees',    # сотрудники\n",
        "    'OrderDetails', # детали заказов\n",
        "    'Orders',       # заказы\n",
        "    'Products',     # товары\n",
        "    'Shippers',     # перевозчики\n",
        "    'Suppliers',    # поставщики\n",
        "]"
      ],
      "metadata": {
        "id": "2zRPDftJp5cR"
      },
      "execution_count": null,
      "outputs": []
    },
    {
      "cell_type": "code",
      "source": [
        "for table in table_names:\n",
        "    data = pd.read_csv(f'{table}.csv', sep = ';')\n",
        "    data.to_sql(table, con, index=False, if_exists='replace')"
      ],
      "metadata": {
        "id": "IYbw8l0Up67f"
      },
      "execution_count": null,
      "outputs": []
    },
    {
      "cell_type": "code",
      "source": [
        "pd.read_sql(\n",
        "    '''\n",
        "    SELECT * FROM Categories\n",
        "    ''',\n",
        "    con,\n",
        ")"
      ],
      "metadata": {
        "id": "dZn9N_lup9Cj"
      },
      "execution_count": null,
      "outputs": []
    },
    {
      "cell_type": "markdown",
      "source": [
        "Все задания нужно выполнить только с помощью sql"
      ],
      "metadata": {
        "id": "dsRsRBzip_Q_"
      }
    },
    {
      "cell_type": "markdown",
      "source": [
        "1. Выберите заказчиков из Германии, Франции и Мадрида, выведите их название, страну и адрес."
      ],
      "metadata": {
        "id": "DZkMCg5yqEIc"
      }
    },
    {
      "cell_type": "code",
      "source": [
        "pd.read_sql(\n",
        "     '''\n",
        "    SELECT CustomerName, Country, Address\n",
        "    FROM Customers\n",
        "    WHERE Country IN ('Germany', 'France') OR City = 'Madrid'\n",
        "    ''',\n",
        "    con,\n",
        ")"
      ],
      "metadata": {
        "id": "ypQCTPPyqYZn"
      },
      "execution_count": null,
      "outputs": []
    },
    {
      "cell_type": "markdown",
      "source": [
        "2. Выберите топ 3 страны по количеству заказчиков, выведите их названия и количество записей."
      ],
      "metadata": {
        "id": "Unpz3_AyqZz7"
      }
    },
    {
      "cell_type": "code",
      "source": [
        "pd.read_sql(\n",
        "    '''\n",
        "    SELECT Country, COUNT(*) as CustomerCount\n",
        "    FROM Customers\n",
        "    GROUP BY Country\n",
        "    ORDER BY CustomerCount DESC\n",
        "    LIMIT 3\n",
        "    ''',\n",
        "    con,\n",
        ")"
      ],
      "metadata": {
        "id": "AzIfI0_GqcuN"
      },
      "execution_count": null,
      "outputs": []
    },
    {
      "cell_type": "markdown",
      "source": [
        "3. Выберите перевозчика, который отправил 10-й по времени заказ, выведите его название, и дату отправления."
      ],
      "metadata": {
        "id": "Fsne9PulvorN"
      }
    },
    {
      "cell_type": "code",
      "source": [
        "pd.read_sql(\n",
        "    '''\n",
        "    SELECT s.ShipperName, o.ShippedDate\n",
        "    FROM Orders o\n",
        "    JOIN Shippers s ON o.ShipperID = s.ShipperID\n",
        "    ORDER BY o.ShippedDate\n",
        "    LIMIT 1 OFFSET 9\n",
        "    ''',\n",
        ")"
      ],
      "metadata": {
        "id": "ob8x945uvqhL"
      },
      "execution_count": null,
      "outputs": []
    },
    {
      "cell_type": "markdown",
      "source": [
        "4. Выберите самый дорогой заказ, выведите список товаров с их ценами."
      ],
      "metadata": {
        "id": "7BuhZsZqvrkK"
      }
    },
    {
      "cell_type": "code",
      "source": [
        "pd.read_sql(\n",
        "    '''\n",
        "    SELECT p.ProductName, od.UnitPrice\n",
        "    FROM OrderDetails od\n",
        "    JOIN Products p ON od.ProductID = p.ProductID\n",
        "    WHERE od.OrderID = (\n",
        "        SELECT od.OrderID\n",
        "        FROM OrderDetails od\n",
        "        GROUP BY od.OrderID\n",
        "        ORDER BY SUM(od.UnitPrice * od.Quantity) DESC\n",
        "        LIMIT 1\n",
        "    )\n",
        "    ''',\n",
        "    con,\n",
        ")"
      ],
      "metadata": {
        "id": "maydyx7tvtwk"
      },
      "execution_count": null,
      "outputs": []
    },
    {
      "cell_type": "markdown",
      "source": [
        "5. Какой товар больше всего заказывали по количеству единиц товара, выведите его название и количество единиц в каждом из заказов."
      ],
      "metadata": {
        "id": "-iSDsZU5vwej"
      }
    },
    {
      "cell_type": "code",
      "source": [
        "pd.read_sql(\n",
        "    '''\n",
        "    SELECT p.ProductName, od.Quantity\n",
        "    FROM OrderDetails od\n",
        "    JOIN Products p ON od.ProductID = p.ProductID\n",
        "    WHERE od.ProductID = (\n",
        "        SELECT od.ProductID\n",
        "        FROM OrderDetails od\n",
        "        GROUP BY od.ProductID\n",
        "        ORDER BY SUM(od.Quantity) DESC\n",
        "        LIMIT 1\n",
        "    )\n",
        "    ''',\n",
        "    con,\n",
        ")"
      ],
      "metadata": {
        "id": "uORJxzbhv19B"
      },
      "execution_count": null,
      "outputs": []
    },
    {
      "cell_type": "markdown",
      "source": [
        "6. Выведите топ 5 поставщиков по количеству заказов, выведите их названия, страну, контактное лицо и телефон."
      ],
      "metadata": {
        "id": "O3focMXkv20C"
      }
    },
    {
      "cell_type": "code",
      "source": [
        "pd.read_sql(\n",
        "    '''\n",
        "    SELECT s.SupplierName, s.Country, s.ContactName, s.Phone, COUNT(*) as OrderCount\n",
        "    FROM Suppliers s\n",
        "    JOIN Products p ON s.SupplierID = p.SupplierID\n",
        "    JOIN OrderDetails od ON p.ProductID = od.ProductID\n",
        "    GROUP BY s.SupplierID\n",
        "    ORDER BY OrderCount DESC\n",
        "    LIMIT 5\n",
        "    ''',\n",
        "    con,\n",
        ")"
      ],
      "metadata": {
        "id": "GG5RpcCVv5_I"
      },
      "execution_count": null,
      "outputs": []
    },
    {
      "cell_type": "markdown",
      "source": [
        "7. Какую категорию товаров заказывали больше всего по стоимости в Бразилии, выведите страну, название категории и сумму."
      ],
      "metadata": {
        "id": "xvpSXIwsv7dV"
      }
    },
    {
      "cell_type": "code",
      "source": [
        "pd.read_sql(\n",
        "    '''\n",
        "    SELECT c.Country, cat.CategoryName, SUM(od.UnitPrice * od.Quantity) AS TotalAmount\n",
        "    FROM OrderDetails od\n",
        "    JOIN Orders o ON od.OrderID = o.OrderID\n",
        "    JOIN Customers c ON o.CustomerID = c.CustomerID\n",
        "    JOIN Products p ON od.ProductID = p.ProductID\n",
        "    JOIN Categories cat ON p.CategoryID = cat.CategoryID\n",
        "    WHERE c.Country = 'Brazil'\n",
        "    GROUP BY cat.CategoryID\n",
        "    ORDER BY TotalAmount DESC\n",
        "    LIMIT 1\n",
        "    ''',\n",
        "    con,\n",
        ")"
      ],
      "metadata": {
        "id": "eNk_MnDKv9VR"
      },
      "execution_count": null,
      "outputs": []
    },
    {
      "cell_type": "markdown",
      "source": [
        "8. Какая разница в стоимости между самым дорогим и самым дешевым заказом из США."
      ],
      "metadata": {
        "id": "BidELjtLv_D1"
      }
    },
    {
      "cell_type": "code",
      "source": [
        "pd.read_sql(\n",
        "    '''\n",
        "    WITH OrderCosts AS (\n",
        "        SELECT o.OrderID, SUM(od.UnitPrice * od.Quantity) AS TotalCost\n",
        "        FROM Orders o\n",
        "        JOIN OrderDetails od ON o.OrderID = od.OrderID\n",
        "        JOIN Customers c ON o.CustomerID = c.CustomerID\n",
        "        WHERE c.Country = 'USA'\n",
        "        GROUP BY o.OrderID\n",
        "    )\n",
        "    SELECT MAX(TotalCost) - MIN(TotalCost) AS CostDifference\n",
        "    FROM OrderCosts\n",
        "    ''',\n",
        "    con,\n",
        ")"
      ],
      "metadata": {
        "id": "xky0rapYwCYg"
      },
      "execution_count": null,
      "outputs": []
    },
    {
      "cell_type": "markdown",
      "source": [
        "9.Выведите количество заказов у каждого их трех самых молодых сотрудников, а также имя и фамилию во второй колонке."
      ],
      "metadata": {
        "id": "ftCraNeuwEDU"
      }
    },
    {
      "cell_type": "code",
      "source": [
        "pd.read_sql(\n",
        "    '''\n",
        "    WITH YoungestEmployees AS (\n",
        "        SELECT EmployeeID, FirstName || ' ' || LastName AS FullName\n",
        "        FROM Employees\n",
        "        ORDER BY BirthDate DESC\n",
        "        LIMIT 3\n",
        "    )\n",
        "    SELECT ye.FullName, COUNT(o.OrderID) AS OrderCount\n",
        "    FROM YoungestEmployees ye\n",
        "    LEFT JOIN Orders o ON ye.EmployeeID = o.EmployeeID\n",
        "    GROUP BY ye.EmployeeID, ye.FullName\n",
        "    ''',\n",
        "    con,\n",
        ")"
      ],
      "metadata": {
        "id": "F6Ff2ZyPwF-E"
      },
      "execution_count": null,
      "outputs": []
    },
    {
      "cell_type": "markdown",
      "source": [
        "10. Сколько банок крабового мяса всего было заказано."
      ],
      "metadata": {
        "id": "Hht8bHc3wHRl"
      }
    },
    {
      "cell_type": "code",
      "source": [
        "pd.read_sql(\n",
        "    '''\n",
        "    SELECT SUM(od.Quantity) AS TotalQuantity\n",
        "    FROM OrderDetails od\n",
        "    JOIN Products p ON od.ProductID = p.ProductID\n",
        "    WHERE p.ProductName = 'Boston Crab Meat'\n",
        "    ''',\n",
        "    con,\n",
        ")"
      ],
      "metadata": {
        "id": "9kPIAZZPwKSS"
      },
      "execution_count": null,
      "outputs": []
    }
  ]
}