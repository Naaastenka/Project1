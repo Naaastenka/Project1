{
  "nbformat": 4,
  "nbformat_minor": 0,
  "metadata": {
    "colab": {
      "provenance": [],
      "include_colab_link": true
    },
    "kernelspec": {
      "name": "python3",
      "display_name": "Python 3"
    },
    "language_info": {
      "name": "python"
    }
  },
  "cells": [
    {
      "cell_type": "markdown",
      "metadata": {
        "id": "view-in-github",
        "colab_type": "text"
      },
      "source": [
        "<a href=\"https://colab.research.google.com/github/Naaastenka/Project1/blob/main/%D0%97%D0%B0%D0%B4%D0%B0%D0%BD%D0%B8%D0%B5_4.ipynb\" target=\"_parent\"><img src=\"https://colab.research.google.com/assets/colab-badge.svg\" alt=\"Open In Colab\"/></a>"
      ]
    },
    {
      "cell_type": "markdown",
      "source": [
        "Реализовать задание 1 и 2 используя объектно-ориентированный подход в python. Справочно:\n",
        "\n",
        "Задание 1 Собрать датасет для исследования по данным об объектах недвижимости (строящихся/готовых) на сайте наш.дом.рф или cian.ru При использовании сервиса наш.дом.рф возможно появлении ошибки JSONDecodeError. В этом случае используйте cian.ru Полученные данные нужно преобразовать в pandas DataFrame и сохранить его в разных вариантах: 1. сsv/ xlsx 2. pickle 3. база данных Датасет будет использован для последующих заданий поэтому важно, чтобы он содержал достаточное количество наблюдений(желательно не менее 1000 записей)\n",
        "\n",
        "Задание 2 по визуализации на python * Используя данные об объектах недвижимости на сайте \"наш.дом.рф\" или cian.ru, провести мини-исследование рынка строящейся/готовой недвижимости в одном или нескольких регионах с помощью pandas, matplotlib, seaborn, plotly и других инструментов. Идеи для мини-исследования * Рассчитать средние цены за квадратный метр по регионам. Важно, чтобы пропуски не учитывались при расчете средней цены. * Рассчитать объемы вводимого жилья по регионам и по годам. * Сравнить этажность домов, количество квартир, жилую площадь, количество парковочных мест и цену за квадратный метр в разных регионах. * Визуализировать разброс, связь, доли, распределение этих показателей по регионам. * Сделать выводы по каждому из расчетов и графиков"
      ],
      "metadata": {
        "id": "LIGVK5enLxjc"
      }
    },
    {
      "cell_type": "code",
      "source": [
        "pip install git+https://github.com/lenarsaitov/cianparser.git"
      ],
      "metadata": {
        "colab": {
          "base_uri": "https://localhost:8080/"
        },
        "collapsed": true,
        "id": "QjOZgDRBU6UM",
        "outputId": "b0d839d7-bd7b-4a7c-a167-2703f6020935"
      },
      "execution_count": 1,
      "outputs": [
        {
          "output_type": "stream",
          "name": "stdout",
          "text": [
            "Collecting git+https://github.com/lenarsaitov/cianparser.git\n",
            "  Cloning https://github.com/lenarsaitov/cianparser.git to /tmp/pip-req-build-bcb2_o9q\n",
            "  Running command git clone --filter=blob:none --quiet https://github.com/lenarsaitov/cianparser.git /tmp/pip-req-build-bcb2_o9q\n",
            "  Resolved https://github.com/lenarsaitov/cianparser.git to commit 236352a200b08b27c24d14b18939b4c34691cbb2\n",
            "  Preparing metadata (setup.py) ... \u001b[?25l\u001b[?25hdone\n",
            "Collecting cloudscraper (from cianparser==1.0.4)\n",
            "  Downloading cloudscraper-1.2.71-py2.py3-none-any.whl.metadata (19 kB)\n",
            "Requirement already satisfied: beautifulsoup4 in /usr/local/lib/python3.10/dist-packages (from cianparser==1.0.4) (4.12.3)\n",
            "Collecting transliterate (from cianparser==1.0.4)\n",
            "  Downloading transliterate-1.10.2-py2.py3-none-any.whl.metadata (14 kB)\n",
            "Requirement already satisfied: lxml in /usr/local/lib/python3.10/dist-packages (from cianparser==1.0.4) (4.9.4)\n",
            "Collecting datetime (from cianparser==1.0.4)\n",
            "  Downloading DateTime-5.5-py3-none-any.whl.metadata (33 kB)\n",
            "Requirement already satisfied: soupsieve>1.2 in /usr/local/lib/python3.10/dist-packages (from beautifulsoup4->cianparser==1.0.4) (2.6)\n",
            "Requirement already satisfied: pyparsing>=2.4.7 in /usr/local/lib/python3.10/dist-packages (from cloudscraper->cianparser==1.0.4) (3.1.4)\n",
            "Requirement already satisfied: requests>=2.9.2 in /usr/local/lib/python3.10/dist-packages (from cloudscraper->cianparser==1.0.4) (2.32.3)\n",
            "Collecting requests-toolbelt>=0.9.1 (from cloudscraper->cianparser==1.0.4)\n",
            "  Downloading requests_toolbelt-1.0.0-py2.py3-none-any.whl.metadata (14 kB)\n",
            "Collecting zope.interface (from datetime->cianparser==1.0.4)\n",
            "  Downloading zope.interface-7.0.3-cp310-cp310-manylinux_2_5_x86_64.manylinux1_x86_64.manylinux_2_17_x86_64.manylinux2014_x86_64.whl.metadata (43 kB)\n",
            "\u001b[2K     \u001b[90m━━━━━━━━━━━━━━━━━━━━━━━━━━━━━━━━━━━━━━━━\u001b[0m \u001b[32m43.6/43.6 kB\u001b[0m \u001b[31m1.0 MB/s\u001b[0m eta \u001b[36m0:00:00\u001b[0m\n",
            "\u001b[?25hRequirement already satisfied: pytz in /usr/local/lib/python3.10/dist-packages (from datetime->cianparser==1.0.4) (2024.2)\n",
            "Requirement already satisfied: six>=1.1.0 in /usr/local/lib/python3.10/dist-packages (from transliterate->cianparser==1.0.4) (1.16.0)\n",
            "Requirement already satisfied: charset-normalizer<4,>=2 in /usr/local/lib/python3.10/dist-packages (from requests>=2.9.2->cloudscraper->cianparser==1.0.4) (3.3.2)\n",
            "Requirement already satisfied: idna<4,>=2.5 in /usr/local/lib/python3.10/dist-packages (from requests>=2.9.2->cloudscraper->cianparser==1.0.4) (3.8)\n",
            "Requirement already satisfied: urllib3<3,>=1.21.1 in /usr/local/lib/python3.10/dist-packages (from requests>=2.9.2->cloudscraper->cianparser==1.0.4) (2.0.7)\n",
            "Requirement already satisfied: certifi>=2017.4.17 in /usr/local/lib/python3.10/dist-packages (from requests>=2.9.2->cloudscraper->cianparser==1.0.4) (2024.8.30)\n",
            "Requirement already satisfied: setuptools in /usr/local/lib/python3.10/dist-packages (from zope.interface->datetime->cianparser==1.0.4) (71.0.4)\n",
            "Downloading cloudscraper-1.2.71-py2.py3-none-any.whl (99 kB)\n",
            "\u001b[2K   \u001b[90m━━━━━━━━━━━━━━━━━━━━━━━━━━━━━━━━━━━━━━━━\u001b[0m \u001b[32m99.7/99.7 kB\u001b[0m \u001b[31m5.3 MB/s\u001b[0m eta \u001b[36m0:00:00\u001b[0m\n",
            "\u001b[?25hDownloading DateTime-5.5-py3-none-any.whl (52 kB)\n",
            "\u001b[2K   \u001b[90m━━━━━━━━━━━━━━━━━━━━━━━━━━━━━━━━━━━━━━━━\u001b[0m \u001b[32m52.6/52.6 kB\u001b[0m \u001b[31m1.5 MB/s\u001b[0m eta \u001b[36m0:00:00\u001b[0m\n",
            "\u001b[?25hDownloading transliterate-1.10.2-py2.py3-none-any.whl (45 kB)\n",
            "\u001b[2K   \u001b[90m━━━━━━━━━━━━━━━━━━━━━━━━━━━━━━━━━━━━━━━━\u001b[0m \u001b[32m45.8/45.8 kB\u001b[0m \u001b[31m2.3 MB/s\u001b[0m eta \u001b[36m0:00:00\u001b[0m\n",
            "\u001b[?25hDownloading requests_toolbelt-1.0.0-py2.py3-none-any.whl (54 kB)\n",
            "\u001b[2K   \u001b[90m━━━━━━━━━━━━━━━━━━━━━━━━━━━━━━━━━━━━━━━━\u001b[0m \u001b[32m54.5/54.5 kB\u001b[0m \u001b[31m3.1 MB/s\u001b[0m eta \u001b[36m0:00:00\u001b[0m\n",
            "\u001b[?25hDownloading zope.interface-7.0.3-cp310-cp310-manylinux_2_5_x86_64.manylinux1_x86_64.manylinux_2_17_x86_64.manylinux2014_x86_64.whl (254 kB)\n",
            "\u001b[2K   \u001b[90m━━━━━━━━━━━━━━━━━━━━━━━━━━━━━━━━━━━━━━━━\u001b[0m \u001b[32m254.1/254.1 kB\u001b[0m \u001b[31m12.8 MB/s\u001b[0m eta \u001b[36m0:00:00\u001b[0m\n",
            "\u001b[?25hBuilding wheels for collected packages: cianparser\n",
            "  Building wheel for cianparser (setup.py) ... \u001b[?25l\u001b[?25hdone\n",
            "  Created wheel for cianparser: filename=cianparser-1.0.4-py3-none-any.whl size=32586 sha256=6b800ff1290b3a47902ccdce73b3ace346f0054fcca1b644e1972c2cda307bb4\n",
            "  Stored in directory: /tmp/pip-ephem-wheel-cache-upp40ek5/wheels/64/64/3f/e86213cad6536b6d261071ce219f1770b4a3975bfb01cba713\n",
            "Successfully built cianparser\n",
            "Installing collected packages: zope.interface, transliterate, requests-toolbelt, datetime, cloudscraper, cianparser\n",
            "Successfully installed cianparser-1.0.4 cloudscraper-1.2.71 datetime-5.5 requests-toolbelt-1.0.0 transliterate-1.10.2 zope.interface-7.0.3\n"
          ]
        }
      ]
    },
    {
      "cell_type": "markdown",
      "source": [],
      "metadata": {
        "id": "xWo-191Hn8b_"
      }
    },
    {
      "cell_type": "code",
      "source": [
        "pip install pandas sqlalchemy openpyxl"
      ],
      "metadata": {
        "colab": {
          "base_uri": "https://localhost:8080/"
        },
        "id": "aruZk7nAYa2N",
        "outputId": "2e81e99b-f962-40da-d652-cf2694b111e5"
      },
      "execution_count": 2,
      "outputs": [
        {
          "output_type": "stream",
          "name": "stdout",
          "text": [
            "Requirement already satisfied: pandas in /usr/local/lib/python3.10/dist-packages (2.1.4)\n",
            "Requirement already satisfied: sqlalchemy in /usr/local/lib/python3.10/dist-packages (2.0.34)\n",
            "Requirement already satisfied: openpyxl in /usr/local/lib/python3.10/dist-packages (3.1.5)\n",
            "Requirement already satisfied: numpy<2,>=1.22.4 in /usr/local/lib/python3.10/dist-packages (from pandas) (1.26.4)\n",
            "Requirement already satisfied: python-dateutil>=2.8.2 in /usr/local/lib/python3.10/dist-packages (from pandas) (2.8.2)\n",
            "Requirement already satisfied: pytz>=2020.1 in /usr/local/lib/python3.10/dist-packages (from pandas) (2024.2)\n",
            "Requirement already satisfied: tzdata>=2022.1 in /usr/local/lib/python3.10/dist-packages (from pandas) (2024.1)\n",
            "Requirement already satisfied: typing-extensions>=4.6.0 in /usr/local/lib/python3.10/dist-packages (from sqlalchemy) (4.12.2)\n",
            "Requirement already satisfied: greenlet!=0.4.17 in /usr/local/lib/python3.10/dist-packages (from sqlalchemy) (3.1.0)\n",
            "Requirement already satisfied: et-xmlfile in /usr/local/lib/python3.10/dist-packages (from openpyxl) (1.1.0)\n",
            "Requirement already satisfied: six>=1.5 in /usr/local/lib/python3.10/dist-packages (from python-dateutil>=2.8.2->pandas) (1.16.0)\n"
          ]
        }
      ]
    },
    {
      "cell_type": "code",
      "source": [
        "import cianparser\n",
        "import pandas as pd\n",
        "import pickle\n",
        "from sqlalchemy import create_engine\n",
        "import matplotlib.pyplot as plt\n",
        "import seaborn as sns"
      ],
      "metadata": {
        "id": "t-c2J3YbTZ2z"
      },
      "execution_count": 3,
      "outputs": []
    },
    {
      "cell_type": "code",
      "source": [
        "class RealEstateDataProcessor:\n",
        "    def __init__(self, location):\n",
        "        self.parser = cianparser.CianParser(location=location)\n",
        "        self.df = None\n",
        "\n",
        "    def collect_data(self, deal_type, rooms, start_page, end_page):\n",
        "        data = self.parser.get_flats(deal_type=deal_type, rooms=rooms, with_saving_csv=False, additional_settings={\"start_page\": start_page, \"end_page\": end_page})\n",
        "        self.df = pd.DataFrame(data)\n",
        "        print(self.df.head())\n",
        "        print(self.df.info())\n",
        "\n",
        "    def save_to_csv(self, file_path):\n",
        "        self.df.to_csv(file_path, index=False)\n",
        "\n",
        "    def save_to_excel(self, file_path):\n",
        "        self.df.to_excel(file_path, index=False)\n",
        "\n",
        "    def save_to_pickle(self, file_path):\n",
        "        with open(file_path, 'wb') as f:\n",
        "            pickle.dump(self.df, f)\n",
        "\n",
        "    def save_to_sqlite(self, db_path):\n",
        "        engine = create_engine(f'sqlite:///{db_path}')\n",
        "        self.df.to_sql('real_estate', engine, index=False, if_exists='replace')\n",
        "\n",
        "    def clean_data(self):\n",
        "        self.df = self.df.dropna(subset=['price', 'square_meter_price', 'region', 'year_built'])\n",
        "        self.df['price'] = self.df['price'].astype(float)\n",
        "        self.df['square_meter_price'] = self.df['square_meter_price'].astype(float)\n",
        "        self.df['year_built'] = self.df['year_built'].astype(int)\n",
        "\n",
        "    def visualize_data(self):\n",
        "        mean_price_per_sqm = self.df.groupby('region')['square_meter_price'].mean().reset_index()\n",
        "        plt.figure(figsize=(10, 6))\n",
        "        sns.barplot(x='square_meter_price', y='region', data=mean_price_per_sqm, palette='viridis')\n",
        "        plt.xlabel('Средняя цена за квадратный метр')\n",
        "        plt.ylabel('Регион')\n",
        "        plt.title('Средняя цена за квадратный метр по регионам')\n",
        "        plt.show()\n",
        "\n",
        "        volume_by_region_year = self.df.groupby(['region', 'year_built']).size().reset_index(name='count')\n",
        "        plt.figure(figsize=(12, 8))\n",
        "        sns.lineplot(x='year_built', y='count', hue='region', data=volume_by_region_year, palette='tab10')\n",
        "        plt.xlabel('Год')\n",
        "        plt.ylabel('Объем вводимого жилья')\n",
        "        plt.title('Объемы вводимого жилья по регионам и по годам')\n",
        "        plt.legend(title='Регион')\n",
        "        plt.show()\n",
        "\n",
        "        metrics = ['floors', 'number_of_flats', 'living_area', 'parking_spaces', 'square_meter_price']\n",
        "        for metric in metrics:\n",
        "            plt.figure(figsize=(10, 6))\n",
        "            sns.boxplot(x='region', y=metric, data=self.df, palette='muted')\n",
        "            plt.xlabel('Регион')\n",
        "            plt.ylabel(metric)\n",
        "            plt.title(f'{metric} по регионам')\n",
        "            plt.xticks(rotation=90)\n",
        "            plt.show()\n"
      ],
      "metadata": {
        "id": "TzoTopS-YBa4"
      },
      "execution_count": 4,
      "outputs": []
    },
    {
      "cell_type": "markdown",
      "source": [
        "Пример использования класса"
      ],
      "metadata": {
        "id": "PWf8lahQp6Lg"
      }
    },
    {
      "cell_type": "code",
      "source": [
        "processor = RealEstateDataProcessor(location=\"Москва\")\n",
        "processor.collect_data(deal_type=\"sale\", rooms=(1, 2), start_page=1, end_page=20)\n",
        "processor.save_to_csv('data.csv')\n",
        "processor.save_to_excel('data.xlsx')\n",
        "processor.save_to_pickle('data.pkl')\n",
        "processor.save_to_sqlite('data.db')\n",
        "processor.clean_data()\n",
        "processor.visualize_data()\n",
        "print(\"Все данные сохранены и визуализированы\")"
      ],
      "metadata": {
        "id": "HzgbJVmGp-Yd",
        "outputId": "052f320a-fb5a-41ca-fd10-bbee62f7efa5",
        "colab": {
          "base_uri": "https://localhost:8080/"
        }
      },
      "execution_count": null,
      "outputs": [
        {
          "output_type": "stream",
          "name": "stdout",
          "text": [
            "\n",
            "                              Preparing to collect information from pages..\n",
            "The page from which the collection of information begins: \n",
            " https://cian.ru/cat.php?engine_version=2&p=1&with_neighbors=0&region=1&deal_type=sale&offer_type=flat&room1=1&room2=1\n",
            "\n",
            "Collecting information from pages with list of offers\n",
            "\n",
            "\n",
            "\n",
            "\n",
            "\n",
            "\n",
            "\n",
            "\n",
            "\n",
            "\n",
            "\n",
            "Exception: 429 Client Error: Too Many Requests for url: https://www.cian.ru/cat.php?engine_version=2&p=11&with_neighbors=0&region=1&deal_type=sale&offer_type=flat&room1=1&room2=1\n",
            "The collection of information from the pages with ending parse on 11 page...\n",
            "\n",
            "\n",
            "\n",
            "\n",
            "Exception: 429 Client Error: Too Many Requests for url: https://www.cian.ru/cat.php?engine_version=2&p=13&with_neighbors=0&region=1&deal_type=sale&offer_type=flat&room1=1&room2=1\n",
            "The collection of information from the pages with ending parse on 13 page...\n",
            "\n",
            "\n",
            "\n",
            "Exception: 429 Client Error: Too Many Requests for url: https://www.cian.ru/cat.php?engine_version=2&p=14&with_neighbors=0&region=1&deal_type=sale&offer_type=flat&room1=1&room2=1\n",
            "The collection of information from the pages with ending parse on 14 page...\n",
            "\n",
            "\n",
            "\n",
            "\n",
            "Exception: 429 Client Error: Too Many Requests for url: https://www.cian.ru/cat.php?engine_version=2&p=16&with_neighbors=0&region=1&deal_type=sale&offer_type=flat&room1=1&room2=1\n",
            "The collection of information from the pages with ending parse on 16 page...\n",
            "\n",
            "\n",
            "\n",
            "\n",
            "Exception: 429 Client Error: Too Many Requests for url: https://www.cian.ru/cat.php?engine_version=2&p=18&with_neighbors=0&region=1&deal_type=sale&offer_type=flat&room1=1&room2=1\n",
            "The collection of information from the pages with ending parse on 18 page...\n",
            "\n"
          ]
        }
      ]
    }
  ]
}